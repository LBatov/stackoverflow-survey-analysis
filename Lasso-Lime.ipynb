{
 "cells": [
  {
   "cell_type": "code",
   "execution_count": 1,
   "metadata": {},
   "outputs": [],
   "source": [
    "import pandas as pd\n",
    "import numpy as np\n",
    "from sklearn.metrics import mean_squared_error, mean_absolute_error\n",
    "from sklearn.preprocessing import LabelEncoder"
   ]
  },
  {
   "cell_type": "code",
   "execution_count": 2,
   "metadata": {},
   "outputs": [],
   "source": [
    "#Need OHE for better results"
   ]
  },
  {
   "cell_type": "code",
   "execution_count": 3,
   "metadata": {},
   "outputs": [],
   "source": [
    "X_train = pd.read_csv('./data/processed/X_train.csv', na_filter=False)\n",
    "X_val = pd.read_csv('./data/processed/X_val.csv', na_filter=False)\n",
    "X_test = pd.read_csv('./data/processed/X_test.csv', na_filter=False)\n",
    "\n",
    "y_train = pd.read_csv('./data/processed/y_train.csv', na_filter=False)\n",
    "y_val = pd.read_csv('./data/processed/y_val.csv', na_filter=False)\n",
    "y_test = pd.read_csv('./data/processed/y_test.csv', na_filter=False)"
   ]
  },
  {
   "cell_type": "code",
   "execution_count": 4,
   "metadata": {},
   "outputs": [],
   "source": [
    "\n",
    "from sklearn.preprocessing import OneHotEncoder\n",
    "feature_names = X_train.columns\n",
    "dataset = pd.concat([X_train, X_test])\n",
    "numeric_features = ['YearsCode', 'YearsCodePro', 'Age', 'Age1stCode']\n",
    "categorical_features = list(filter(lambda col: col not in numeric_features, X_train.columns))\n",
    "categorical_features_indices = list(filter(lambda idx: idx not in [4, 5], list(range(51))))\n",
    "\n",
    "dataset = dataset[feature_names].values\n",
    "val_dataset = X_val.copy()\n",
    "val_dataset = val_dataset[feature_names].values\n",
    "train_dataset = X_train.copy()\n",
    "train_dataset = train_dataset[feature_names].values\n",
    "test_dataset = X_test.copy()\n",
    "test_dataset = test_dataset[feature_names].values\n",
    "categorical_names = {} \n",
    "les={} \n",
    "for feature in categorical_features_indices:\n",
    "    le = LabelEncoder() \n",
    "    le.fit(dataset[:, feature])\n",
    "    dataset[:, feature] = le.transform(dataset[:, feature])\n",
    "    val_dataset[:, feature] = le.transform(val_dataset[:, feature])\n",
    "    train_dataset[:, feature] = le.transform(train_dataset[:, feature])\n",
    "    test_dataset[:, feature] = le.transform(test_dataset[:, feature])\n",
    "    categorical_names[feature] = le.classes_ \n",
    "    les[feature] = le\n",
    "\n",
    "dataset = dataset.astype('float32') \n",
    "val_dataset = val_dataset.astype('float32') \n",
    "train_dataset = train_dataset.astype('float32') \n",
    "test_dataset = test_dataset.astype('float32')\n",
    "from sklearn.compose import ColumnTransformer \n",
    "encoder = ColumnTransformer([(\"enc\", OneHotEncoder(),\n",
    "                            categorical_features_indices)],\n",
    "                            remainder = 'passthrough')\n",
    "\n",
    "encoder.fit(dataset)\n",
    " \n",
    "encoded_dataset = encoder.transform(dataset)\n",
    "encoded_train = encoder.transform(train_dataset)\n",
    "encoded_val = encoder.transform(val_dataset)\n",
    "encoded_test = encoder.transform(test_dataset)"
   ]
  },
  {
   "cell_type": "code",
   "execution_count": 5,
   "metadata": {},
   "outputs": [],
   "source": [
    "import pandas\n",
    "from sklearn.linear_model import Lasso"
   ]
  },
  {
   "cell_type": "code",
   "execution_count": null,
   "metadata": {},
   "outputs": [],
   "source": [
    "lasso_model = Lasso()\n",
    "lasso_model.fit(encoded_train, y_train)\n",
    "print(mean_absolute_error(lasso_model.predict(encoded_test), y_test))"
   ]
  },
  {
   "cell_type": "code",
   "execution_count": null,
   "metadata": {},
   "outputs": [],
   "source": [
    "import lime\n",
    "import lime.lime_tabular\n",
    "from lime import submodular_pick\n",
    "import sklearn\n",
    "from sklearn.preprocessing import LabelEncoder"
   ]
  },
  {
   "cell_type": "code",
   "execution_count": null,
   "metadata": {},
   "outputs": [],
   "source": [
    "labels = pd.concat([y_train, y_test])\n",
    "le= LabelEncoder()\n",
    "le.fit(labels)\n",
    "labels = le.transform(labels)\n",
    "class_names = le.classes_\n",
    "#dataset = dataset[feature_names].values"
   ]
  },
  {
   "cell_type": "code",
   "execution_count": null,
   "metadata": {},
   "outputs": [],
   "source": [
    "#categorical_names = {} \n",
    "les={} \n",
    "for feature in categorical_features_indices:\n",
    "    le = LabelEncoder() \n",
    "    le.fit(dataset[:, feature])\n",
    "    dataset[:, feature] = le.transform(dataset[:, feature])\n",
    "    #categorical_names[feature] = le.classes_ \n",
    "    les[feature] = le\n",
    "\n",
    "dataset = dataset.astype(float)"
   ]
  },
  {
   "cell_type": "code",
   "execution_count": null,
   "metadata": {},
   "outputs": [],
   "source": [
    "train = dataset[:X_train.shape[0], :]\n",
    "test = dataset[X_train.shape[0]:, :]\n",
    "labels_train = labels[:X_train.shape[0]]\n",
    "labels_test = labels[X_train.shape[0]:]"
   ]
  },
  {
   "cell_type": "code",
   "execution_count": null,
   "metadata": {},
   "outputs": [],
   "source": [
    "explainer = lime.lime_tabular.LimeTabularExplainer(train,mode='regression',feature_names=feature_names,\n",
    "                                                   categorical_features=categorical_features_indices,\n",
    "                                                   categorical_names=categorical_names,\n",
    "                                                   class_names=['ConvertedCompYearly'])"
   ]
  },
  {
   "cell_type": "code",
   "execution_count": null,
   "metadata": {},
   "outputs": [],
   "source": [
    "predict_fn = lambda x: lasso_model.predict(np.asarray(encoder.transform(x)).astype('float32')).astype(float)"
   ]
  },
  {
   "cell_type": "code",
   "execution_count": null,
   "metadata": {},
   "outputs": [],
   "source": [
    "n_explanations = 20"
   ]
  },
  {
   "cell_type": "code",
   "execution_count": null,
   "metadata": {},
   "outputs": [],
   "source": [
    "diff_array = pd.DataFrame() \n",
    "diff_array['real'] = pd.concat([y_test])\n",
    "diff_array['predict'] = lasso_model.predict(encoded_test)\n",
    "diff_array['diff'] = diff_array['real'] - diff_array['predict']\n"
   ]
  },
  {
   "cell_type": "code",
   "execution_count": null,
   "metadata": {},
   "outputs": [],
   "source": [
    "small_but_big_predict =3545    \n",
    "big_but_small_predict =6217\n",
    "big_and_big_predict = 8088    \n",
    "small_and_small_predict=8140 "
   ]
  },
  {
   "cell_type": "code",
   "execution_count": null,
   "metadata": {},
   "outputs": [],
   "source": [
    "exp = explainer.explain_instance(test[big_and_big_predict], predict_fn, num_features=n_explanations)\n",
    "print(f\"\"\"Real       ConvertedCompYearly= {diff_array.iloc[[big_and_big_predict]]['real'].values}\n",
    "Predicted  ConvertedCompYearly= {diff_array.iloc[[big_and_big_predict]]['predict'].values}\"\"\")\n",
    "exp.show_in_notebook(show_all=False)"
   ]
  },
  {
   "cell_type": "code",
   "execution_count": null,
   "metadata": {},
   "outputs": [],
   "source": [
    "exp = explainer.explain_instance(test[small_and_small_predict], predict_fn, num_features=n_explanations)\n",
    "print(f\"\"\"Real       ConvertedCompYearly= {diff_array.iloc[[small_and_small_predict]]['real'].values}\n",
    "Predicted  ConvertedCompYearly= {diff_array.iloc[[small_and_small_predict]]['predict'].values}\"\"\")\n",
    "exp.show_in_notebook(show_all=False)"
   ]
  },
  {
   "cell_type": "code",
   "execution_count": null,
   "metadata": {},
   "outputs": [],
   "source": [
    "exp = explainer.explain_instance(test[small_but_big_predict], predict_fn, num_features=n_explanations)\n",
    "print(f\"\"\"Real       ConvertedCompYearly= {diff_array.iloc[[small_but_big_predict]]['real'].values}\n",
    "Predicted  ConvertedCompYearly= {diff_array.iloc[[small_but_big_predict]]['predict'].values}\"\"\")\n",
    "exp.show_in_notebook(show_all=False)"
   ]
  },
  {
   "cell_type": "code",
   "execution_count": null,
   "metadata": {},
   "outputs": [],
   "source": [
    "exp = explainer.explain_instance(test[big_but_small_predict], predict_fn, num_features=n_explanations)\n",
    "print(f\"\"\"Real       ConvertedCompYearly= {diff_array.iloc[[big_but_small_predict]]['real'].values}\n",
    "Predicted  ConvertedCompYearly= {diff_array.iloc[[big_but_small_predict]]['predict'].values}\"\"\")\n",
    "exp.show_in_notebook(show_all=False)"
   ]
  },
  {
   "cell_type": "code",
   "execution_count": null,
   "metadata": {},
   "outputs": [],
   "source": []
  }
 ],
 "metadata": {
  "kernelspec": {
   "display_name": "Python 3",
   "language": "python",
   "name": "python3"
  },
  "language_info": {
   "codemirror_mode": {
    "name": "ipython",
    "version": 3
   },
   "file_extension": ".py",
   "mimetype": "text/x-python",
   "name": "python",
   "nbconvert_exporter": "python",
   "pygments_lexer": "ipython3",
   "version": "3.6.5"
  }
 },
 "nbformat": 4,
 "nbformat_minor": 2
}
