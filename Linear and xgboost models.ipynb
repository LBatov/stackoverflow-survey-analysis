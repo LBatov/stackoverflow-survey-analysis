{
 "cells": [
  {
   "cell_type": "code",
   "execution_count": 2,
   "metadata": {},
   "outputs": [],
   "source": [
    "import pandas as pd\n",
    "import numpy as np\n",
    "from sklearn.linear_model import Ridge, Lasso, LinearRegression\n",
    "from sklearn.linear_model import ElasticNet\n",
    "from sklearn.preprocessing import StandardScaler\n",
    "from sklearn.metrics import mean_squared_error, mean_absolute_error\n",
    "from xgboost import XGBClassifier, XGBRegressor\n",
    "from sklearn.ensemble import RandomForestRegressor"
   ]
  },
  {
   "cell_type": "code",
   "execution_count": 3,
   "metadata": {},
   "outputs": [],
   "source": [
    "X_train = pd.read_csv('./data/processed/X_train_ohe.csv', na_filter=False)\n",
    "X_val = pd.read_csv('./data/processed/X_val_ohe.csv', na_filter=False)\n",
    "X_test = pd.read_csv('./data/processed/X_test_ohe.csv', na_filter=False)\n",
    "\n",
    "y_train = pd.read_csv('./data/processed/y_train_ohe.csv', na_filter=False)\n",
    "y_val = pd.read_csv('./data/processed/y_val_ohe.csv', na_filter=False)\n",
    "y_test = pd.read_csv('./data/processed/y_test_ohe.csv', na_filter=False)"
   ]
  },
  {
   "cell_type": "code",
   "execution_count": 4,
   "metadata": {},
   "outputs": [],
   "source": [
    "scaler = StandardScaler()\n",
    "scaler.fit(X_train)\n",
    "X_train_scaler = scaler.transform(X_train)\n",
    "X_val_scaler = scaler.transform(X_val)\n",
    "X_test_scaler = scaler.transform(X_test)"
   ]
  },
  {
   "cell_type": "markdown",
   "metadata": {},
   "source": [
    "## L1 регуляризация"
   ]
  },
  {
   "cell_type": "code",
   "execution_count": 5,
   "metadata": {},
   "outputs": [
    {
     "name": "stdout",
     "output_type": "stream",
     "text": [
      "22829.418863135536\n"
     ]
    },
    {
     "name": "stderr",
     "output_type": "stream",
     "text": [
      "/home/tgorlenko/anaconda3/lib/python3.7/site-packages/sklearn/linear_model/coordinate_descent.py:475: ConvergenceWarning: Objective did not converge. You might want to increase the number of iterations. Duality gap: 3516941950407.9707, tolerance: 5971007215.535019\n",
      "  positive)\n"
     ]
    }
   ],
   "source": [
    "lasso_model = Lasso()\n",
    "lasso_model.fit(X_train_scaler, y_train)\n",
    "print(mean_absolute_error(lasso_model.predict(X_val_scaler), y_val))"
   ]
  },
  {
   "cell_type": "markdown",
   "metadata": {},
   "source": [
    "Настроим параметр регуляризации"
   ]
  },
  {
   "cell_type": "code",
   "execution_count": 6,
   "metadata": {},
   "outputs": [
    {
     "name": "stdout",
     "output_type": "stream",
     "text": [
      "22817.474633029353\n"
     ]
    }
   ],
   "source": [
    "lasso_model = Lasso(alpha=77)\n",
    "lasso_model.fit(X_train_scaler, y_train)\n",
    "print(mean_absolute_error(lasso_model.predict(X_val_scaler), y_val))"
   ]
  },
  {
   "cell_type": "code",
   "execution_count": 7,
   "metadata": {},
   "outputs": [
    {
     "name": "stdout",
     "output_type": "stream",
     "text": [
      "Качество на тесте:  22685.995494193452\n"
     ]
    }
   ],
   "source": [
    "print('Качество на тесте: ', mean_absolute_error(lasso_model.predict(X_test_scaler), y_test))"
   ]
  },
  {
   "cell_type": "code",
   "execution_count": 17,
   "metadata": {},
   "outputs": [],
   "source": [
    "import pickle\n",
    "with open('linear_model.pickle', 'wb') as f:\n",
    "    pickle.dump(lasso_model, f)"
   ]
  },
  {
   "cell_type": "code",
   "execution_count": null,
   "metadata": {},
   "outputs": [],
   "source": []
  },
  {
   "cell_type": "markdown",
   "metadata": {},
   "source": [
    "# L2 регуляризация"
   ]
  },
  {
   "cell_type": "code",
   "execution_count": 7,
   "metadata": {},
   "outputs": [
    {
     "name": "stdout",
     "output_type": "stream",
     "text": [
      "22830.846491116776\n"
     ]
    }
   ],
   "source": [
    "ridge_model = Ridge()\n",
    "ridge_model.fit(X_train_scaler, y_train)\n",
    "print(mean_absolute_error(ridge_model.predict(X_val_scaler), y_val))"
   ]
  },
  {
   "cell_type": "markdown",
   "metadata": {},
   "source": [
    "Настроим параметр регуляризации"
   ]
  },
  {
   "cell_type": "code",
   "execution_count": 8,
   "metadata": {},
   "outputs": [
    {
     "name": "stdout",
     "output_type": "stream",
     "text": [
      "22829.358576611365\n"
     ]
    }
   ],
   "source": [
    "ridge_model = Ridge(alpha=8)\n",
    "ridge_model.fit(X_train_scaler, y_train)\n",
    "print(mean_absolute_error(ridge_model.predict(X_val_scaler), y_val))"
   ]
  },
  {
   "cell_type": "code",
   "execution_count": 9,
   "metadata": {},
   "outputs": [
    {
     "name": "stdout",
     "output_type": "stream",
     "text": [
      "Качество на тесте:  22682.347082970748\n"
     ]
    }
   ],
   "source": [
    "print('Качество на тесте: ', mean_absolute_error(ridge_model.predict(X_test_scaler), y_test))"
   ]
  },
  {
   "cell_type": "markdown",
   "metadata": {},
   "source": [
    "## ElasticNet"
   ]
  },
  {
   "cell_type": "code",
   "execution_count": 10,
   "metadata": {},
   "outputs": [
    {
     "name": "stdout",
     "output_type": "stream",
     "text": [
      "23644.867012977353\n"
     ]
    }
   ],
   "source": [
    "e_model = ElasticNet()\n",
    "e_model.fit(X_train_scaler, y_train)\n",
    "print(mean_absolute_error(e_model.predict(X_val_scaler), y_val))"
   ]
  },
  {
   "cell_type": "markdown",
   "metadata": {},
   "source": [
    "Настроим параметр регуляризации"
   ]
  },
  {
   "cell_type": "code",
   "execution_count": 11,
   "metadata": {},
   "outputs": [
    {
     "name": "stdout",
     "output_type": "stream",
     "text": [
      "22829.421455370433\n"
     ]
    },
    {
     "name": "stderr",
     "output_type": "stream",
     "text": [
      "/home/tgorlenko/anaconda3/lib/python3.7/site-packages/sklearn/linear_model/coordinate_descent.py:475: ConvergenceWarning: Objective did not converge. You might want to increase the number of iterations. Duality gap: 12891431072799.2, tolerance: 5971007215.535019\n",
      "  positive)\n"
     ]
    }
   ],
   "source": [
    "e_model = ElasticNet(alpha=0.001, l1_ratio=0.7)\n",
    "e_model.fit(X_train_scaler, y_train)\n",
    "print(mean_absolute_error(e_model.predict(X_val_scaler), y_val))"
   ]
  },
  {
   "cell_type": "code",
   "execution_count": 12,
   "metadata": {},
   "outputs": [
    {
     "name": "stdout",
     "output_type": "stream",
     "text": [
      "Качество на тесте:  22682.47170120155\n"
     ]
    }
   ],
   "source": [
    "print('Качество на тесте: ', mean_absolute_error(e_model.predict(X_test_scaler), y_test))"
   ]
  },
  {
   "cell_type": "markdown",
   "metadata": {},
   "source": [
    "# XGBoost"
   ]
  },
  {
   "cell_type": "code",
   "execution_count": 13,
   "metadata": {},
   "outputs": [
    {
     "name": "stdout",
     "output_type": "stream",
     "text": [
      "22081.591375709002\n"
     ]
    }
   ],
   "source": [
    "xgb_model = XGBRegressor()\n",
    "xgb_model.fit(X_train_scaler, y_train)\n",
    "print(mean_absolute_error(xgb_model.predict(X_val_scaler), y_val))"
   ]
  },
  {
   "cell_type": "markdown",
   "metadata": {},
   "source": [
    "Настроим параметры"
   ]
  },
  {
   "cell_type": "code",
   "execution_count": 14,
   "metadata": {},
   "outputs": [
    {
     "name": "stdout",
     "output_type": "stream",
     "text": [
      "21622.793629531683\n"
     ]
    }
   ],
   "source": [
    "xgb_model = XGBRegressor(n_estimators=500, max_depth=4, learning_rate=0.1, n_jobs=-1)\n",
    "xgb_model.fit(X_train_scaler, y_train)\n",
    "print(mean_absolute_error(xgb_model.predict(X_val_scaler), y_val))"
   ]
  },
  {
   "cell_type": "code",
   "execution_count": 15,
   "metadata": {},
   "outputs": [
    {
     "name": "stdout",
     "output_type": "stream",
     "text": [
      "Качество на тесте:  21237.12340899344\n"
     ]
    }
   ],
   "source": [
    "print('Качество на тесте: ', mean_absolute_error(xgb_model.predict(X_test_scaler), y_test))"
   ]
  },
  {
   "cell_type": "code",
   "execution_count": null,
   "metadata": {},
   "outputs": [],
   "source": []
  }
 ],
 "metadata": {
  "kernelspec": {
   "display_name": "Python 3",
   "language": "python",
   "name": "python3"
  },
  "language_info": {
   "codemirror_mode": {
    "name": "ipython",
    "version": 3
   },
   "file_extension": ".py",
   "mimetype": "text/x-python",
   "name": "python",
   "nbconvert_exporter": "python",
   "pygments_lexer": "ipython3",
   "version": "3.7.11"
  }
 },
 "nbformat": 4,
 "nbformat_minor": 2
}
