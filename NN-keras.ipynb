{
 "cells": [
  {
   "cell_type": "code",
   "execution_count": 1,
   "metadata": {},
   "outputs": [],
   "source": [
    "import pandas as pd\n",
    "from sklearn.metrics import mean_squared_error, mean_absolute_error"
   ]
  },
  {
   "cell_type": "code",
   "execution_count": 2,
   "metadata": {},
   "outputs": [],
   "source": [
    "#Need OHE for better results"
   ]
  },
  {
   "cell_type": "code",
   "execution_count": 3,
   "metadata": {},
   "outputs": [],
   "source": [
    "X_train = pd.read_csv('./data/processed/X_train_ohe.csv', na_filter=False)\n",
    "X_val = pd.read_csv('./data/processed/X_val_ohe.csv', na_filter=False)\n",
    "X_test = pd.read_csv('./data/processed/X_test_ohe.csv', na_filter=False)\n",
    "\n",
    "y_train = pd.read_csv('./data/processed/y_train_ohe.csv', na_filter=False)\n",
    "y_val = pd.read_csv('./data/processed/y_val_ohe.csv', na_filter=False)\n",
    "y_test = pd.read_csv('./data/processed/y_test_ohe.csv', na_filter=False)"
   ]
  },
  {
   "cell_type": "code",
   "execution_count": null,
   "metadata": {},
   "outputs": [],
   "source": []
  },
  {
   "cell_type": "code",
   "execution_count": 4,
   "metadata": {},
   "outputs": [
    {
     "name": "stderr",
     "output_type": "stream",
     "text": [
      "Using TensorFlow backend.\n",
      "C:\\ProgramData\\Anaconda3\\lib\\site-packages\\tensorflow\\python\\framework\\dtypes.py:526: FutureWarning: Passing (type, 1) or '1type' as a synonym of type is deprecated; in a future version of numpy, it will be understood as (type, (1,)) / '(1,)type'.\n",
      "  _np_qint8 = np.dtype([(\"qint8\", np.int8, 1)])\n",
      "C:\\ProgramData\\Anaconda3\\lib\\site-packages\\tensorflow\\python\\framework\\dtypes.py:527: FutureWarning: Passing (type, 1) or '1type' as a synonym of type is deprecated; in a future version of numpy, it will be understood as (type, (1,)) / '(1,)type'.\n",
      "  _np_quint8 = np.dtype([(\"quint8\", np.uint8, 1)])\n",
      "C:\\ProgramData\\Anaconda3\\lib\\site-packages\\tensorflow\\python\\framework\\dtypes.py:528: FutureWarning: Passing (type, 1) or '1type' as a synonym of type is deprecated; in a future version of numpy, it will be understood as (type, (1,)) / '(1,)type'.\n",
      "  _np_qint16 = np.dtype([(\"qint16\", np.int16, 1)])\n",
      "C:\\ProgramData\\Anaconda3\\lib\\site-packages\\tensorflow\\python\\framework\\dtypes.py:529: FutureWarning: Passing (type, 1) or '1type' as a synonym of type is deprecated; in a future version of numpy, it will be understood as (type, (1,)) / '(1,)type'.\n",
      "  _np_quint16 = np.dtype([(\"quint16\", np.uint16, 1)])\n",
      "C:\\ProgramData\\Anaconda3\\lib\\site-packages\\tensorflow\\python\\framework\\dtypes.py:530: FutureWarning: Passing (type, 1) or '1type' as a synonym of type is deprecated; in a future version of numpy, it will be understood as (type, (1,)) / '(1,)type'.\n",
      "  _np_qint32 = np.dtype([(\"qint32\", np.int32, 1)])\n",
      "C:\\ProgramData\\Anaconda3\\lib\\site-packages\\tensorflow\\python\\framework\\dtypes.py:535: FutureWarning: Passing (type, 1) or '1type' as a synonym of type is deprecated; in a future version of numpy, it will be understood as (type, (1,)) / '(1,)type'.\n",
      "  np_resource = np.dtype([(\"resource\", np.ubyte, 1)])\n"
     ]
    }
   ],
   "source": [
    "import pandas\n",
    "from keras.models import Sequential\n",
    "import keras\n",
    "from keras.layers import Dense\n",
    "from sklearn.model_selection import cross_val_score\n",
    "from sklearn.preprocessing import StandardScaler"
   ]
  },
  {
   "cell_type": "code",
   "execution_count": 5,
   "metadata": {},
   "outputs": [
    {
     "name": "stdout",
     "output_type": "stream",
     "text": [
      "WARNING:tensorflow:From C:\\ProgramData\\Anaconda3\\lib\\site-packages\\tensorflow\\python\\ops\\resource_variable_ops.py:435: colocate_with (from tensorflow.python.framework.ops) is deprecated and will be removed in a future version.\n",
      "Instructions for updating:\n",
      "Colocations handled automatically by placer.\n",
      "StandardScaler(copy=True, with_mean=True, with_std=True)\n",
      "WARNING:tensorflow:From C:\\ProgramData\\Anaconda3\\lib\\site-packages\\tensorflow\\python\\ops\\math_ops.py:3066: to_int32 (from tensorflow.python.ops.math_ops) is deprecated and will be removed in a future version.\n",
      "Instructions for updating:\n",
      "Use tf.cast instead.\n",
      "Train on 26057 samples, validate on 6515 samples\n",
      "Epoch 1/20\n",
      "26057/26057 [==============================] - 1s 53us/step - loss: 27852.6000 - val_loss: 22316.9659\n",
      "Epoch 2/20\n",
      "26057/26057 [==============================] - 1s 49us/step - loss: 21650.8409 - val_loss: 22033.3919\n",
      "Epoch 3/20\n",
      "26057/26057 [==============================] - 1s 45us/step - loss: 21189.0362 - val_loss: 21634.8593\n",
      "Epoch 4/20\n",
      "26057/26057 [==============================] - 1s 46us/step - loss: 21045.9561 - val_loss: 21707.1691\n",
      "Epoch 5/20\n",
      "26057/26057 [==============================] - 1s 46us/step - loss: 20949.0799 - val_loss: 21641.7204\n",
      "Epoch 6/20\n",
      "26057/26057 [==============================] - 1s 47us/step - loss: 20851.4764 - val_loss: 21621.6416\n",
      "Epoch 7/20\n",
      "26057/26057 [==============================] - 1s 46us/step - loss: 20767.6628 - val_loss: 21599.9609\n",
      "Epoch 8/20\n",
      "26057/26057 [==============================] - 1s 46us/step - loss: 20678.4200 - val_loss: 21562.3104\n",
      "Epoch 9/20\n",
      "26057/26057 [==============================] - 1s 47us/step - loss: 20591.0040 - val_loss: 21582.8215\n",
      "Epoch 10/20\n",
      "26057/26057 [==============================] - 1s 45us/step - loss: 20496.5894 - val_loss: 21517.0263\n",
      "Epoch 11/20\n",
      "26057/26057 [==============================] - 1s 46us/step - loss: 20407.5706 - val_loss: 21478.2513\n",
      "Epoch 12/20\n",
      "26057/26057 [==============================] - 1s 46us/step - loss: 20311.7852 - val_loss: 21479.3729\n",
      "Epoch 13/20\n",
      "26057/26057 [==============================] - 1s 47us/step - loss: 20220.7853 - val_loss: 21446.4259\n",
      "Epoch 14/20\n",
      "26057/26057 [==============================] - 1s 46us/step - loss: 20126.3017 - val_loss: 21446.0439\n",
      "Epoch 15/20\n",
      "26057/26057 [==============================] - 1s 46us/step - loss: 20033.8909 - val_loss: 21400.3732\n",
      "Epoch 16/20\n",
      "26057/26057 [==============================] - 1s 46us/step - loss: 19942.8131 - val_loss: 21356.3175\n",
      "Epoch 17/20\n",
      "26057/26057 [==============================] - 1s 45us/step - loss: 19848.6360 - val_loss: 21395.8111\n",
      "Epoch 18/20\n",
      "26057/26057 [==============================] - 1s 44us/step - loss: 19752.8866 - val_loss: 21305.6312\n",
      "Epoch 19/20\n",
      "26057/26057 [==============================] - 1s 44us/step - loss: 19681.9841 - val_loss: 21351.1066\n",
      "Epoch 20/20\n",
      "26057/26057 [==============================] - 1s 47us/step - loss: 19599.0533 - val_loss: 21351.7359\n"
     ]
    }
   ],
   "source": [
    "model = Sequential()\n",
    "\n",
    "model.add(Dense(160, input_dim=107, kernel_initializer='normal', activation='relu'))\n",
    "model.add(Dense(20, kernel_initializer='normal', activation='relu'))\n",
    "model.add(Dense(5, kernel_initializer='normal', activation='relu'))\n",
    "model.add(Dense(1, kernel_initializer='normal', activation='relu'))\n",
    "\n",
    "model.compile(loss='mae', optimizer='Adadelta')\n",
    "\n",
    "\n",
    "scaler = StandardScaler()\n",
    "print(scaler.fit(X_train))\n",
    "X_train_t = scaler.transform(X_train)\n",
    "X_val_t = scaler.transform(X_val)\n",
    "\n",
    "history = model.fit(\n",
    "    X_train_t,\n",
    "    y_train,\n",
    "    batch_size=30,\n",
    "    epochs=20,\n",
    "    use_multiprocessing =True,\n",
    "    # Validation of loss and metrics\n",
    "    # at the end of each epoch:\n",
    "    validation_data=(X_val_t, y_val),\n",
    ")"
   ]
  },
  {
   "cell_type": "code",
   "execution_count": null,
   "metadata": {},
   "outputs": [],
   "source": []
  },
  {
   "cell_type": "code",
   "execution_count": 6,
   "metadata": {},
   "outputs": [
    {
     "data": {
      "text/plain": [
       "20917.845567398042"
      ]
     },
     "execution_count": 6,
     "metadata": {},
     "output_type": "execute_result"
    }
   ],
   "source": [
    "X_test_t = scaler.transform(X_test)\n",
    "mean_absolute_error(model.predict(X_test_t), y_test)"
   ]
  },
  {
   "cell_type": "code",
   "execution_count": null,
   "metadata": {},
   "outputs": [],
   "source": []
  }
 ],
 "metadata": {
  "kernelspec": {
   "display_name": "Python 3",
   "language": "python",
   "name": "python3"
  },
  "language_info": {
   "codemirror_mode": {
    "name": "ipython",
    "version": 3
   },
   "file_extension": ".py",
   "mimetype": "text/x-python",
   "name": "python",
   "nbconvert_exporter": "python",
   "pygments_lexer": "ipython3",
   "version": "3.6.5"
  }
 },
 "nbformat": 4,
 "nbformat_minor": 2
}
